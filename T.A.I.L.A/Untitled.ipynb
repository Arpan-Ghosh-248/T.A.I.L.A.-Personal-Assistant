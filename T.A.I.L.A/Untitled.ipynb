{
 "cells": [
  {
   "cell_type": "code",
   "execution_count": 1,
   "id": "7506f865",
   "metadata": {},
   "outputs": [],
   "source": [
    "import pyttsx3\n",
    "engine= pyttsx3.init()\n",
    "import speech_recognition as sr\n",
    "import datetime \n",
    "import os\n",
    "import subprocess\n",
    "import sys\n",
    "import cv2\n",
    "voices = engine.getProperty('voices')"
   ]
  },
  {
   "cell_type": "code",
   "execution_count": 2,
   "id": "c858f9a3",
   "metadata": {},
   "outputs": [],
   "source": [
    "engine.setProperty('voice', 'com.apple.speech.synthesis.voice.samantha')\n",
    "def speak(audio):\n",
    "    engine.say(audio)\n",
    "    engine.runAndWait()"
   ]
  },
  {
   "cell_type": "code",
   "execution_count": 3,
   "id": "08bd3d7a",
   "metadata": {},
   "outputs": [],
   "source": [
    "def takeinstruction():\n",
    "    r=sr.Recognizer()\n",
    "    with sr.Microphone() as source:\n",
    "        print('Listening....')\n",
    "        r.pause_threshold=1\n",
    "        audio = r.listen(source,timeout=10,phrase_time_limit=5)\n",
    "    try:\n",
    "        print(\"Recognising......\")\n",
    "        query=r.recognize_google(audio,language='en-in')\n",
    "        print(f\"audio instruction: \", query)\n",
    "        \n",
    "    except Exception as e:\n",
    "        return \"none\"\n",
    "    return query"
   ]
  },
  {
   "cell_type": "code",
   "execution_count": 4,
   "id": "79acb1e7",
   "metadata": {},
   "outputs": [],
   "source": [
    "def greet():\n",
    "    hour= datetime.datetime.now().hour\n",
    "    if hour>0 and hour<12:\n",
    "        speak(\"Good Morning sir. How may I help you today?\")\n",
    "    elif hour>12 and hour<18:\n",
    "        speak(\"Good Afternoon sir, what can i do for you at this time? \")\n",
    "    else:\n",
    "        speak(\"Good evening sir, what can i do for you at this time?\")\n",
    "    \n",
    "    "
   ]
  },
  {
   "cell_type": "code",
   "execution_count": 5,
   "id": "ca01662b",
   "metadata": {},
   "outputs": [
    {
     "name": "stdout",
     "output_type": "stream",
     "text": [
      "Listening....\n",
      "Recognising......\n",
      "Listening....\n",
      "Recognising......\n",
      "audio instruction:  open vs code\n",
      "Listening....\n",
      "Recognising......\n",
      "audio instruction:  Bhojpuri video\n",
      "Listening....\n",
      "Recognising......\n",
      "audio instruction:  edit MP3\n",
      "Listening....\n",
      "Recognising......\n"
     ]
    },
    {
     "ename": "KeyboardInterrupt",
     "evalue": "",
     "output_type": "error",
     "traceback": [
      "\u001b[0;31m---------------------------------------------------------------------------\u001b[0m",
      "\u001b[0;31mKeyboardInterrupt\u001b[0m                         Traceback (most recent call last)",
      "\u001b[0;32m<ipython-input-5-fd7eb73fa08a>\u001b[0m in \u001b[0;36m<module>\u001b[0;34m\u001b[0m\n\u001b[1;32m      3\u001b[0m     \u001b[0;31m#takeinstruction()\u001b[0m\u001b[0;34m\u001b[0m\u001b[0;34m\u001b[0m\u001b[0;34m\u001b[0m\u001b[0m\n\u001b[1;32m      4\u001b[0m     \u001b[0;32mwhile\u001b[0m \u001b[0;32mTrue\u001b[0m\u001b[0;34m:\u001b[0m\u001b[0;34m\u001b[0m\u001b[0;34m\u001b[0m\u001b[0m\n\u001b[0;32m----> 5\u001b[0;31m         \u001b[0mquery\u001b[0m\u001b[0;34m=\u001b[0m\u001b[0mtakeinstruction\u001b[0m\u001b[0;34m(\u001b[0m\u001b[0;34m)\u001b[0m\u001b[0;34m.\u001b[0m\u001b[0mlower\u001b[0m\u001b[0;34m(\u001b[0m\u001b[0;34m)\u001b[0m\u001b[0;34m\u001b[0m\u001b[0;34m\u001b[0m\u001b[0m\n\u001b[0m\u001b[1;32m      6\u001b[0m         \u001b[0mopener\u001b[0m \u001b[0;34m=\u001b[0m \u001b[0;34m\"open\"\u001b[0m \u001b[0;32mif\u001b[0m \u001b[0msys\u001b[0m\u001b[0;34m.\u001b[0m\u001b[0mplatform\u001b[0m \u001b[0;34m==\u001b[0m \u001b[0;34m\"darwin\"\u001b[0m \u001b[0;32melse\u001b[0m \u001b[0;34m\"xdg-open\"\u001b[0m\u001b[0;34m\u001b[0m\u001b[0;34m\u001b[0m\u001b[0m\n\u001b[1;32m      7\u001b[0m         \u001b[0;32mif\u001b[0m \u001b[0;34m\"open vs code\"\u001b[0m \u001b[0;32min\u001b[0m \u001b[0mquery\u001b[0m\u001b[0;34m:\u001b[0m\u001b[0;34m\u001b[0m\u001b[0;34m\u001b[0m\u001b[0m\n",
      "\u001b[0;32m<ipython-input-3-31fdc4c1572e>\u001b[0m in \u001b[0;36mtakeinstruction\u001b[0;34m()\u001b[0m\n\u001b[1;32m      7\u001b[0m     \u001b[0;32mtry\u001b[0m\u001b[0;34m:\u001b[0m\u001b[0;34m\u001b[0m\u001b[0;34m\u001b[0m\u001b[0m\n\u001b[1;32m      8\u001b[0m         \u001b[0mprint\u001b[0m\u001b[0;34m(\u001b[0m\u001b[0;34m\"Recognising......\"\u001b[0m\u001b[0;34m)\u001b[0m\u001b[0;34m\u001b[0m\u001b[0;34m\u001b[0m\u001b[0m\n\u001b[0;32m----> 9\u001b[0;31m         \u001b[0mquery\u001b[0m\u001b[0;34m=\u001b[0m\u001b[0mr\u001b[0m\u001b[0;34m.\u001b[0m\u001b[0mrecognize_google\u001b[0m\u001b[0;34m(\u001b[0m\u001b[0maudio\u001b[0m\u001b[0;34m,\u001b[0m\u001b[0mlanguage\u001b[0m\u001b[0;34m=\u001b[0m\u001b[0;34m'en-in'\u001b[0m\u001b[0;34m)\u001b[0m\u001b[0;34m\u001b[0m\u001b[0;34m\u001b[0m\u001b[0m\n\u001b[0m\u001b[1;32m     10\u001b[0m         \u001b[0mprint\u001b[0m\u001b[0;34m(\u001b[0m\u001b[0;34mf\"audio instruction: \"\u001b[0m\u001b[0;34m,\u001b[0m \u001b[0mquery\u001b[0m\u001b[0;34m)\u001b[0m\u001b[0;34m\u001b[0m\u001b[0;34m\u001b[0m\u001b[0m\n\u001b[1;32m     11\u001b[0m \u001b[0;34m\u001b[0m\u001b[0m\n",
      "\u001b[0;32m~/opt/anaconda3/lib/python3.8/site-packages/speech_recognition/__init__.py\u001b[0m in \u001b[0;36mrecognize_google\u001b[0;34m(self, audio_data, key, language, show_all)\u001b[0m\n\u001b[1;32m    824\u001b[0m         \u001b[0;32massert\u001b[0m \u001b[0misinstance\u001b[0m\u001b[0;34m(\u001b[0m\u001b[0mlanguage\u001b[0m\u001b[0;34m,\u001b[0m \u001b[0mstr\u001b[0m\u001b[0;34m)\u001b[0m\u001b[0;34m,\u001b[0m \u001b[0;34m\"``language`` must be a string\"\u001b[0m\u001b[0;34m\u001b[0m\u001b[0;34m\u001b[0m\u001b[0m\n\u001b[1;32m    825\u001b[0m \u001b[0;34m\u001b[0m\u001b[0m\n\u001b[0;32m--> 826\u001b[0;31m         flac_data = audio_data.get_flac_data(\n\u001b[0m\u001b[1;32m    827\u001b[0m             \u001b[0mconvert_rate\u001b[0m\u001b[0;34m=\u001b[0m\u001b[0;32mNone\u001b[0m \u001b[0;32mif\u001b[0m \u001b[0maudio_data\u001b[0m\u001b[0;34m.\u001b[0m\u001b[0msample_rate\u001b[0m \u001b[0;34m>=\u001b[0m \u001b[0;36m8000\u001b[0m \u001b[0;32melse\u001b[0m \u001b[0;36m8000\u001b[0m\u001b[0;34m,\u001b[0m  \u001b[0;31m# audio samples must be at least 8 kHz\u001b[0m\u001b[0;34m\u001b[0m\u001b[0;34m\u001b[0m\u001b[0m\n\u001b[1;32m    828\u001b[0m             \u001b[0mconvert_width\u001b[0m\u001b[0;34m=\u001b[0m\u001b[0;36m2\u001b[0m  \u001b[0;31m# audio samples must be 16-bit\u001b[0m\u001b[0;34m\u001b[0m\u001b[0;34m\u001b[0m\u001b[0m\n",
      "\u001b[0;32m~/opt/anaconda3/lib/python3.8/site-packages/speech_recognition/__init__.py\u001b[0m in \u001b[0;36mget_flac_data\u001b[0;34m(self, convert_rate, convert_width)\u001b[0m\n\u001b[1;32m    456\u001b[0m             \u001b[0;34m\"-\"\u001b[0m\u001b[0;34m,\u001b[0m  \u001b[0;31m# the input FLAC file contents will be given in stdin\u001b[0m\u001b[0;34m\u001b[0m\u001b[0;34m\u001b[0m\u001b[0m\n\u001b[1;32m    457\u001b[0m         ], stdin=subprocess.PIPE, stdout=subprocess.PIPE, startupinfo=startup_info)\n\u001b[0;32m--> 458\u001b[0;31m         \u001b[0mflac_data\u001b[0m\u001b[0;34m,\u001b[0m \u001b[0mstderr\u001b[0m \u001b[0;34m=\u001b[0m \u001b[0mprocess\u001b[0m\u001b[0;34m.\u001b[0m\u001b[0mcommunicate\u001b[0m\u001b[0;34m(\u001b[0m\u001b[0mwav_data\u001b[0m\u001b[0;34m)\u001b[0m\u001b[0;34m\u001b[0m\u001b[0;34m\u001b[0m\u001b[0m\n\u001b[0m\u001b[1;32m    459\u001b[0m         \u001b[0;32mreturn\u001b[0m \u001b[0mflac_data\u001b[0m\u001b[0;34m\u001b[0m\u001b[0;34m\u001b[0m\u001b[0m\n\u001b[1;32m    460\u001b[0m \u001b[0;34m\u001b[0m\u001b[0m\n",
      "\u001b[0;32m~/opt/anaconda3/lib/python3.8/subprocess.py\u001b[0m in \u001b[0;36mcommunicate\u001b[0;34m(self, input, timeout)\u001b[0m\n\u001b[1;32m   1026\u001b[0m \u001b[0;34m\u001b[0m\u001b[0m\n\u001b[1;32m   1027\u001b[0m             \u001b[0;32mtry\u001b[0m\u001b[0;34m:\u001b[0m\u001b[0;34m\u001b[0m\u001b[0;34m\u001b[0m\u001b[0m\n\u001b[0;32m-> 1028\u001b[0;31m                 \u001b[0mstdout\u001b[0m\u001b[0;34m,\u001b[0m \u001b[0mstderr\u001b[0m \u001b[0;34m=\u001b[0m \u001b[0mself\u001b[0m\u001b[0;34m.\u001b[0m\u001b[0m_communicate\u001b[0m\u001b[0;34m(\u001b[0m\u001b[0minput\u001b[0m\u001b[0;34m,\u001b[0m \u001b[0mendtime\u001b[0m\u001b[0;34m,\u001b[0m \u001b[0mtimeout\u001b[0m\u001b[0;34m)\u001b[0m\u001b[0;34m\u001b[0m\u001b[0;34m\u001b[0m\u001b[0m\n\u001b[0m\u001b[1;32m   1029\u001b[0m             \u001b[0;32mexcept\u001b[0m \u001b[0mKeyboardInterrupt\u001b[0m\u001b[0;34m:\u001b[0m\u001b[0;34m\u001b[0m\u001b[0;34m\u001b[0m\u001b[0m\n\u001b[1;32m   1030\u001b[0m                 \u001b[0;31m# https://bugs.python.org/issue25942\u001b[0m\u001b[0;34m\u001b[0m\u001b[0;34m\u001b[0m\u001b[0;34m\u001b[0m\u001b[0m\n",
      "\u001b[0;32m~/opt/anaconda3/lib/python3.8/subprocess.py\u001b[0m in \u001b[0;36m_communicate\u001b[0;34m(self, input, endtime, orig_timeout)\u001b[0m\n\u001b[1;32m   1876\u001b[0m                     \u001b[0;32mfor\u001b[0m \u001b[0mkey\u001b[0m\u001b[0;34m,\u001b[0m \u001b[0mevents\u001b[0m \u001b[0;32min\u001b[0m \u001b[0mready\u001b[0m\u001b[0;34m:\u001b[0m\u001b[0;34m\u001b[0m\u001b[0;34m\u001b[0m\u001b[0m\n\u001b[1;32m   1877\u001b[0m                         \u001b[0;32mif\u001b[0m \u001b[0mkey\u001b[0m\u001b[0;34m.\u001b[0m\u001b[0mfileobj\u001b[0m \u001b[0;32mis\u001b[0m \u001b[0mself\u001b[0m\u001b[0;34m.\u001b[0m\u001b[0mstdin\u001b[0m\u001b[0;34m:\u001b[0m\u001b[0;34m\u001b[0m\u001b[0;34m\u001b[0m\u001b[0m\n\u001b[0;32m-> 1878\u001b[0;31m                             chunk = input_view[self._input_offset :\n\u001b[0m\u001b[1;32m   1879\u001b[0m                                                self._input_offset + _PIPE_BUF]\n\u001b[1;32m   1880\u001b[0m                             \u001b[0;32mtry\u001b[0m\u001b[0;34m:\u001b[0m\u001b[0;34m\u001b[0m\u001b[0;34m\u001b[0m\u001b[0m\n",
      "\u001b[0;31mKeyboardInterrupt\u001b[0m: "
     ]
    }
   ],
   "source": [
    "if __name__=='__main__':\n",
    "    #speak('Hello sir, i am a personal A.I Assistant of TECH I.S, and my name is Taaila')\n",
    "    #takeinstruction()\n",
    "    while True:\n",
    "        query=takeinstruction().lower()\n",
    "        opener = \"open\" if sys.platform == \"darwin\" else \"xdg-open\"\n",
    "        if \"open vs code\" in query:\n",
    "            apath= \"//Applications//Visual Studio Code.app\"\n",
    "            opener = \"open\" if sys.platform == \"darwin\" else \"xdg-open\"\n",
    "            subprocess.call([opener, apath])\n",
    "            speak('opening visual studio code for you')\n",
    "        elif \"open slack\" in query:\n",
    "            slack_path=\"//Applications//Slack.app\"\n",
    "            subprocess.call([opener, slack_path])\n",
    "            speak(\"Opening slack for you\")\n",
    "        elif \"open chrome\" in query:\n",
    "            chrome_path=\"//Applications//Google Chrome.app\"\n",
    "            subprocess.call([opener, chrome_path])\n",
    "            speak(\"Opening Google Chrome for you\")\n",
    "            \n",
    "        elif \"open zoom\" in query:\n",
    "            zoom_path=\"//Applications//zoom.us.app\"\n",
    "            subprocess.call([opener, zoom_path])\n",
    "            speak(\"Opening Google Zoom meeting app for you\")\n",
    "            \n",
    "        elif \"open terminal\" in query:\n",
    "            #zoom_path=\"//Applications//zoom.us.app\"\n",
    "            #subprocess.call([opener, zoom_path])\n",
    "            os.system('open -a Terminal .')\n",
    "            speak(\"Opening terminal\")\n",
    "            \n",
    "        elif \"open camera\" in query:\n",
    "            frameWidth = 640\n",
    "            frameHeight = 480\n",
    "            cap = cv2.VideoCapture(0)\n",
    "            cap.set(3, frameWidth)\n",
    "            cap.set(4, frameHeight)\n",
    "            cap.set(10,150)\n",
    "\n",
    "            while cap.isOpened():\n",
    "                success, img = cap.read()\n",
    "                if success:\n",
    "                    cv2.imshow(\"Result\", img)\n",
    "                    if cv2.waitKey(1) & 0xFF == ord('q'):\n",
    "                        break\n",
    "        elif \"open youtube\" in query:\n",
    "            import webbrowser\n",
    "            webbrowser.open(\"https://www.youtube.com/\")\n",
    "            speak('opening youtube')\n",
    "            speak(\"what do you want to watch?\")\n",
    "            search= takeinstruction().lower()\n",
    "            webbrowser.open(\"https://www.youtube.com/results?search_query=\"+search)\n",
    "            speak(\"opening, \" + search)\n",
    "            \n"
   ]
  },
  {
   "cell_type": "code",
   "execution_count": null,
   "id": "bfba46c2",
   "metadata": {},
   "outputs": [],
   "source": [
    "import urllib.request\n",
    "import re\n",
    "\n",
    "search_keyword = search.replace(\" \", \"+\")\n",
    "\n",
    "html = urllib.request.urlopen(\"https://www.youtube.com/results?search_query=\" + \n",
    "search_keyword)\n",
    "video_ids = re.findall(r\"watch\\?v=(\\S{11})\", html.read().decode())\n",
    "\n",
    "n = 0\n",
    "link_list=[]\n",
    "for x in video_ids:\n",
    "    link=\"https://www.youtube.com/watch?v=\"+x\n",
    "\n",
    "    print(link)\n",
    "    n+=1\n",
    "    link_list.append(link)\n",
    "\n",
    "print(n)"
   ]
  },
  {
   "cell_type": "code",
   "execution_count": null,
   "id": "72afd000",
   "metadata": {},
   "outputs": [],
   "source": [
    "# importing vlc module\n",
    "import vlc\n",
    "  \n",
    "# importing pafy module\n",
    "import pafy\n",
    "  \n",
    "# url of the video\n",
    "url = link_list[1]\n",
    "  \n",
    "# creating pafy object of the video\n",
    "video = pafy.new(url)\n",
    "  \n",
    "# getting best stream\n",
    "best = video.getbest()\n",
    "  \n",
    "# creating vlc media player object\n",
    "media = vlc.MediaPlayer(best.url)\n",
    "  \n",
    "# start playing video\n",
    "media.play()"
   ]
  },
  {
   "cell_type": "code",
   "execution_count": null,
   "id": "c341e6c2",
   "metadata": {},
   "outputs": [],
   "source": [
    "link_list"
   ]
  },
  {
   "cell_type": "code",
   "execution_count": 10,
   "id": "47295ef0",
   "metadata": {},
   "outputs": [
    {
     "data": {
      "text/plain": [
       "279"
      ]
     },
     "execution_count": 10,
     "metadata": {},
     "output_type": "execute_result"
    }
   ],
   "source": [
    "len(link_list)"
   ]
  },
  {
   "cell_type": "code",
   "execution_count": null,
   "id": "ad1199c6",
   "metadata": {},
   "outputs": [],
   "source": []
  }
 ],
 "metadata": {
  "kernelspec": {
   "display_name": "Python 3",
   "language": "python",
   "name": "python3"
  },
  "language_info": {
   "codemirror_mode": {
    "name": "ipython",
    "version": 3
   },
   "file_extension": ".py",
   "mimetype": "text/x-python",
   "name": "python",
   "nbconvert_exporter": "python",
   "pygments_lexer": "ipython3",
   "version": "3.8.8"
  }
 },
 "nbformat": 4,
 "nbformat_minor": 5
}
